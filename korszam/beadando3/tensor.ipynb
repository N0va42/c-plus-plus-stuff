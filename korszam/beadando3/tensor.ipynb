{
 "cells": [
  {
   "cell_type": "code",
   "execution_count": 1,
   "metadata": {},
   "outputs": [
    {
     "name": "stderr",
     "output_type": "stream",
     "text": [
      "2024-05-16 22:38:08.309807: I external/local_tsl/tsl/cuda/cudart_stub.cc:32] Could not find cuda drivers on your machine, GPU will not be used.\n",
      "2024-05-16 22:38:08.337613: I external/local_tsl/tsl/cuda/cudart_stub.cc:32] Could not find cuda drivers on your machine, GPU will not be used.\n",
      "2024-05-16 22:38:08.486418: I tensorflow/core/platform/cpu_feature_guard.cc:210] This TensorFlow binary is optimized to use available CPU instructions in performance-critical operations.\n",
      "To enable the following instructions: AVX2 FMA, in other operations, rebuild TensorFlow with the appropriate compiler flags.\n",
      "2024-05-16 22:38:09.587692: W tensorflow/compiler/tf2tensorrt/utils/py_utils.cc:38] TF-TRT Warning: Could not find TensorRT\n",
      "2024-05-16 22:38:10.879166: I external/local_xla/xla/stream_executor/cuda/cuda_executor.cc:998] successful NUMA node read from SysFS had negative value (-1), but there must be at least one NUMA node, so returning NUMA node zero. See more at https://github.com/torvalds/linux/blob/v6.0/Documentation/ABI/testing/sysfs-bus-pci#L344-L355\n",
      "2024-05-16 22:38:10.880471: W tensorflow/core/common_runtime/gpu/gpu_device.cc:2251] Cannot dlopen some GPU libraries. Please make sure the missing libraries mentioned above are installed properly if you would like to use GPU. Follow the guide at https://www.tensorflow.org/install/gpu for how to download and setup the required libraries for your platform.\n",
      "Skipping registering GPU devices...\n"
     ]
    }
   ],
   "source": [
    "import tensorflow as tf\n",
    "\n",
    "tensor_dimensions = [32, 10, 100, 3]\n",
    "\n",
    "tensor_A = tf.random.uniform(tensor_dimensions, minval=-5, maxval=5, dtype=tf.double)\n",
    "tensor_B = tf.random.uniform(tensor_dimensions, minval=-5, maxval=5, dtype=tf.double)"
   ]
  },
  {
   "cell_type": "code",
   "execution_count": 2,
   "metadata": {},
   "outputs": [],
   "source": [
    "def perm(dimensions):\n",
    "    permutation = list(range(len(dimensions) + 1))\n",
    "    permutation[-1], permutation[-2] = len(dimensions) - 1, len(dimensions)\n",
    "    return permutation\n",
    "\n",
    "def trans(tensor, dimensions, permutation):\n",
    "    tensor = tf.repeat(tensor, dimensions[-2])\n",
    "    tensor = tf.reshape(tensor, dimensions + [dimensions[-2]])\n",
    "    tensor = tf.transpose(tensor, permutation)\n",
    "    return tensor"
   ]
  },
  {
   "cell_type": "code",
   "execution_count": 3,
   "metadata": {},
   "outputs": [
    {
     "name": "stderr",
     "output_type": "stream",
     "text": [
      "2024-05-16 22:38:10.935984: W external/local_tsl/tsl/framework/cpu_allocator_impl.cc:83] Allocation of 76800000 exceeds 10% of free system memory.\n",
      "2024-05-16 22:38:10.953368: W external/local_tsl/tsl/framework/cpu_allocator_impl.cc:83] Allocation of 76800000 exceeds 10% of free system memory.\n",
      "2024-05-16 22:38:10.986169: W external/local_tsl/tsl/framework/cpu_allocator_impl.cc:83] Allocation of 76800000 exceeds 10% of free system memory.\n",
      "2024-05-16 22:38:11.000258: W external/local_tsl/tsl/framework/cpu_allocator_impl.cc:83] Allocation of 76800000 exceeds 10% of free system memory.\n",
      "2024-05-16 22:38:11.040110: W external/local_tsl/tsl/framework/cpu_allocator_impl.cc:83] Allocation of 76800000 exceeds 10% of free system memory.\n"
     ]
    },
    {
     "name": "stdout",
     "output_type": "stream",
     "text": [
      "(32, 10, 100, 100)\n"
     ]
    }
   ],
   "source": [
    "permutation_1 = perm(tensor_dimensions)\n",
    "permutation_2 = perm(tensor_dimensions)\n",
    "permutation_2[-2], permutation_2[-3] = len(tensor_dimensions) - 2, len(tensor_dimensions)\n",
    "\n",
    "reshaped_tensor_A = trans(tensor_A, tensor_dimensions, permutation_1)\n",
    "reshaped_tensor_B = trans(tensor_B, tensor_dimensions, permutation_2)\n",
    "\n",
    "distance = tf.norm(reshaped_tensor_A - reshaped_tensor_B, axis=-1)\n",
    "print(distance.shape)"
   ]
  }
 ],
 "metadata": {
  "kernelspec": {
   "display_name": "Python 3",
   "language": "python",
   "name": "python3"
  },
  "language_info": {
   "codemirror_mode": {
    "name": "ipython",
    "version": 3
   },
   "file_extension": ".py",
   "mimetype": "text/x-python",
   "name": "python",
   "nbconvert_exporter": "python",
   "pygments_lexer": "ipython3",
   "version": "3.11.9"
  }
 },
 "nbformat": 4,
 "nbformat_minor": 2
}
